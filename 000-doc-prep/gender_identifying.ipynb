{
 "metadata": {
  "name": "",
  "signature": "sha256:11745ebcc149e6250dd6917396032593e8e746be9819f5ecf0f70cc8579e4b53"
 },
 "nbformat": 3,
 "nbformat_minor": 0,
 "worksheets": [
  {
   "cells": [
    {
     "cell_type": "code",
     "collapsed": false,
     "input": [
      "import requests, json\n",
      "\n",
      "def getGenders(names):\n",
      "\turl = \"\"\n",
      "\tcnt = 0\n",
      "\tfor name in names:\n",
      "\t\tif url == \"\":\n",
      "\t\t\turl = \"name[0]=\" + name\n",
      "\t\telse:\n",
      "\t\t\tcnt += 1\n",
      "\t\t\turl = url + \"&name[\" + str(cnt) + \"]=\" + name\n",
      "\t\t\n",
      "\n",
      "\treq = requests.get(\"http://api.genderize.io?\" + url)\n",
      "\tresults = json.loads(req.text)\n",
      "\t\n",
      "\tretrn = []\n",
      "\tfor result in results:\n",
      "\t\tif result[\"gender\"] is not None:\n",
      "\t\t\tretrn.append((result[\"name\"],result[\"gender\"], result[\"probability\"], result[\"count\"]))\n",
      "\t\telse:\n",
      "\t\t\tretrn.append((result[\"name\"], u'None',u'0.0',0.0))\n",
      "\treturn retrn"
     ],
     "language": "python",
     "metadata": {},
     "outputs": [],
     "prompt_number": 46
    },
    {
     "cell_type": "code",
     "collapsed": false,
     "input": [
      "import MySQLdb as mdb, sys\n",
      "\n",
      "try:\n",
      "    con = mdb.connect('127.0.0.1', 'root', 'root', 'ibm_jam')\n",
      "    cur = con.cursor()\n",
      "    \n",
      "    # grab list of unmatched names from gendered_names\n",
      "    cur.execute(\"select distinct(ucase(full_name)) from gendered_names where gender is Null;\")\n",
      "    names = cur.fetchall()\n",
      "    \n",
      "    # first, any where there are no full first names, just initials, set to unknown gender\n",
      "    for name in names:\n",
      "        name = name[0]\n",
      "        if name.strip().count(' ') - name.strip().count('.') <= 0: \n",
      "            print \"updating {}\".format(name)\n",
      "          \n",
      "            cur.execute('UPDATE gendered_names SET gender=%s WHERE full_name=%s',('unknown',name))\n",
      "    con.commit()    \n",
      "except _mysql.Error, e:\n",
      "  \n",
      "    print \"Error %d: %s\" % (e.args[0], e.args[1])\n",
      "    sys.exit(1)\n",
      "\n",
      "finally:\n",
      "    \n",
      "    if con:\n",
      "        con.close()\n",
      "        \n",
      "# put the looked-up names in the gender lookup table\n",
      "\n",
      "# update genedered_names to include the newly gendered names\n",
      "\n"
     ],
     "language": "python",
     "metadata": {},
     "outputs": []
    },
    {
     "cell_type": "code",
     "collapsed": false,
     "input": [
      "s = \"Harry G. Wells\"\n",
      "ss = s.split(\".\")\n",
      "print ss[-1].strip().count(' ')\n",
      "print s.strip().count(' ') - s.strip().count('.')"
     ],
     "language": "python",
     "metadata": {},
     "outputs": [
      {
       "output_type": "stream",
       "stream": "stdout",
       "text": [
        "0\n",
        "1\n"
       ]
      }
     ],
     "prompt_number": 25
    },
    {
     "cell_type": "code",
     "collapsed": false,
     "input": [
      "# here, we'll start using the gender.io api, through the Genderize package \n",
      "# to grab some updated genders\n",
      "\n",
      "import MySQLdb as mdb, sys\n",
      "import ssl\n",
      "from genderize import Genderize\n",
      "# I'm using python 2.7, which doesn't get along with the requests package https settings.  \n",
      "#    the longer term solution is to upgrade python.\n",
      "import urllib3\n",
      "urllib3.disable_warnings()\n",
      "\n",
      "try:\n",
      "    con = mdb.connect('127.0.0.1', 'root', 'root', 'ibm_jam')\n",
      "    cur = con.cursor()\n",
      "    offset = 7000\n",
      "    # grab list of unmatched names from gendered_names. 500 at a time, to do the 1000 limit in two parts\n",
      "    cur.execute(\"select distinct(ucase(first_name)) from ce_names where gender is Null limit 1000 offset {};\".format(offset))\n",
      "    names = cur.fetchall()\n",
      "    call_names = []\n",
      "    # first, any where there are no full first names, just initials, set to unknown gender\n",
      "    for name in names:\n",
      "        call_names.append(name[0])\n",
      "    \n",
      "    # it looks like the Genderize code or API only returns 10 at a time, so we'll do this in blocks of ten\n",
      "    step = 10\n",
      "    for i in range(0, len(call_names), step): \n",
      "        print(call_names[i: i + step])\n",
      "        g_names = Genderize().get(call_names[i: i + step])\n",
      "        # print(g_names)\n",
      "        for gio in g_names:\n",
      "            if gio[\"gender\"] is None:\n",
      "                gio[\"gender\"] = \"NOLOOKUP\"\n",
      "                gio[\"probability\"]=0\n",
      "                gio[\"count\"]=0\n",
      "            cur.execute('INSERT INTO extra_gender_lookups VALUES (%s,%s,%s,%s)',(gio[\"name\"],gio[\"gender\"], gio[\"probability\"], gio[\"count\"]))\n",
      "            #cur.execute('UPDATE gendered_names SET gender=%s WHERE first_name=%s',('unknown',name))\n",
      "        con.commit()    \n",
      "except mdb.Error, e:\n",
      "  \n",
      "    print \"Error %d: %s\" % (e.args[0], e.args[1])\n",
      "    sys.exit(1)\n",
      "\n",
      "finally:\n",
      "    \n",
      "    if con:\n",
      "        con.close()"
     ],
     "language": "python",
     "metadata": {},
     "outputs": [
      {
       "output_type": "stream",
       "stream": "stdout",
       "text": [
        "['YASHWINEE', 'YASSER', 'YASUAKI', 'YASUHARU', 'YASUHIDE', 'YASUKI', 'YASUNAO', 'YASUSHI', 'YASUYUKI', 'YAT']\n",
        "['YATI', 'YATIN', 'YAVIS', 'YAVOR', 'YAWEN', 'YAYOI', 'YAZID', 'YAZMIN', 'YEAN', 'YEAZI']"
       ]
      },
      {
       "output_type": "stream",
       "stream": "stdout",
       "text": [
        "\n",
        "['YECENIA', 'YEEN', 'YEHUDA', 'YEIMY', 'YEMI', 'YENG', 'YENIT', 'YEOJIN', 'YESHWANT', 'YESHWANTH']"
       ]
      },
      {
       "output_type": "stream",
       "stream": "stdout",
       "text": [
        "\n",
        "['YESICA', 'YEZDI', 'YEZHEN', 'YH', 'YIBO', 'YIDA', 'YIK', 'YILIN', 'YIN', 'YINGHUI']"
       ]
      },
      {
       "output_type": "stream",
       "stream": "stdout",
       "text": [
        "\n",
        "['YINKA', 'YINXIN', 'YIOLA', 'YIPING', 'YIQING', 'YIXIN', 'YIYING', 'YIYUE', 'YM', 'YN']"
       ]
      },
      {
       "output_type": "stream",
       "stream": "stdout",
       "text": [
        "\n",
        "['YO', 'YOANN', 'YOAV', 'YOCHANA', 'YOGANANTHAM', 'YOGENDRA', 'YOGESWARAN', 'YOGINDER', 'YOGIRAJ', 'YOGISH']"
       ]
      },
      {
       "output_type": "stream",
       "stream": "stdout",
       "text": [
        "\n",
        "['YOHANA', 'YOHANN', 'YOHEI', 'YOHICHI', 'YOHJI', 'YOHKO', 'YOHSUKE', 'YOLAINE', 'YONGDEUK', 'YONGHEE']"
       ]
      },
      {
       "output_type": "stream",
       "stream": "stdout",
       "text": [
        "\n",
        "['YONGHUA', 'YONGJAE', 'YONGMIN', 'YONGSANG', 'YONGXI', 'YONNI', 'YOONHEE', 'YOONSIK', 'YOONSUN', 'YORDANKA']"
       ]
      },
      {
       "output_type": "stream",
       "stream": "stdout",
       "text": [
        "\n",
        "['YORK', 'YOS', 'YOSEF', 'YOSHI', 'YOSHIAKA', 'YOSHIAKI', 'YOSHIHIDE', 'YOSHIKAZU', 'YOSHIOMI', 'YOSHITO']"
       ]
      },
      {
       "output_type": "stream",
       "stream": "stdout",
       "text": [
        "\n",
        "['YOSHIYA', 'YOSHIYUKI', 'YOSUKE', 'YOU', 'YOUNGHOON', 'YOUNGHUN', 'YOUNGIM', 'YOUNGJIN', 'YOUNGTAE', 'YOURI']"
       ]
      },
      {
       "output_type": "stream",
       "stream": "stdout",
       "text": [
        "\n",
        "['YOUSSEF', 'YOUSUF', 'YOUXIANG', 'YUANMIN', 'YUG', 'YUGA', 'YUGANDHAR', 'YUGENDRAN', 'YUH', 'YUHICHIROH']"
       ]
      },
      {
       "output_type": "stream",
       "stream": "stdout",
       "text": [
        "\n",
        "['YUHKI', 'YUI', 'YUIKO', 'YUJI', 'YUJIA', 'YUKA', 'YUKIHIKO', 'YUKIHISA', 'YUKIMI', 'YULIAN']"
       ]
      },
      {
       "output_type": "stream",
       "stream": "stdout",
       "text": [
        "\n",
        "['YULIETHE', 'YULIN(JOHN)', 'YUMI', 'YUNBOK', 'YUNFEI', 'YUNGHO', 'YUNHEE', 'YUNJIE', 'YUNUS', 'YUPHADEE']"
       ]
      },
      {
       "output_type": "stream",
       "stream": "stdout",
       "text": [
        "\n",
        "['YUQING', 'YURICZA', 'YUSUF', 'YUSUKE', 'YUVABOON', 'YUVARAJ', 'YUVARAJPREMKUMAR', 'YUWEI', 'YUYA', 'YUYO']"
       ]
      },
      {
       "output_type": "stream",
       "stream": "stdout",
       "text": [
        "\n",
        "['YUZHU', 'YVAN', 'YVO', 'YVON', 'ZAC', 'ZACH', 'ZAFIRA', 'ZAHEER', 'ZAHI', 'ZAHIDUL']"
       ]
      },
      {
       "output_type": "stream",
       "stream": "stdout",
       "text": [
        "\n",
        "['ZAID', 'ZAIN', 'ZAINAL', 'ZAINE', 'ZAIRA', 'ZAKEEDA', 'ZAKIR', 'ZALA', 'ZALMAN', 'ZAMAN']"
       ]
      },
      {
       "output_type": "stream",
       "stream": "stdout",
       "text": [
        "\n",
        "['ZAMZUZZAMAN', 'ZANOTTO', 'ZARINA', 'ZARINAH', 'ZAVEN', 'ZAYRUS', 'ZBIGNIEW', 'ZBYNEK', 'ZDENEK', 'ZDENKA']"
       ]
      },
      {
       "output_type": "stream",
       "stream": "stdout",
       "text": [
        "\n",
        "['ZEINA', 'ZEKE', 'ZEL', 'ZEN', 'ZENGGANG', 'ZENKA', 'ZETA', 'ZEYAD', 'ZEYNEP', 'ZHANG']"
       ]
      },
      {
       "output_type": "stream",
       "stream": "stdout",
       "text": [
        "\n",
        "['ZHANGWEN', 'ZHAOBING', 'ZHAOJIA', 'ZHAOMING', 'ZHE', 'ZHEN', 'ZHENDONG', 'ZHENGPEN', 'ZHENGPING', 'ZHENGTING']"
       ]
      },
      {
       "output_type": "stream",
       "stream": "stdout",
       "text": [
        "\n",
        "['ZHENNAN', 'ZHENNI', 'ZHENYU', 'ZHIBO', 'ZHIGANG', 'ZHIHUO', 'ZHILI', 'ZHIQIANG', 'ZHIYAN', 'ZHIYONG']"
       ]
      },
      {
       "output_type": "stream",
       "stream": "stdout",
       "text": [
        "\n",
        "['ZHONGBO', 'ZHONGKANG', 'ZHOU', 'ZHU', 'ZHUANG', 'ZHUMING', 'ZHUO', 'ZI', 'ZIAAD', 'ZIAD']"
       ]
      },
      {
       "output_type": "stream",
       "stream": "stdout",
       "text": [
        "\n",
        "['ZIGGY', 'ZIKANG', 'ZIKRI', 'ZING', 'ZIPAN', 'ZLATAN', 'ZO', 'ZOIS', 'ZONGQIANG', 'ZORYANA']"
       ]
      },
      {
       "output_type": "stream",
       "stream": "stdout",
       "text": [
        "\n",
        "['ZRINKO', 'ZSA', 'ZSANETT', 'ZSOFIA', 'ZSOLT', 'ZSUZSA', 'ZSUZSANNA', 'ZUBEROA', 'ZULAIKHA', 'ZULIMA']"
       ]
      },
      {
       "output_type": "stream",
       "stream": "stdout",
       "text": [
        "\n",
        "['ZUN', 'ZUZANA', 'ZVINYS', 'ZYGMUNT', '\\xc5\\x81UKASZ', '\\xe5\\xbb\\x96', '\\xe6\\xb2\\x83\\xe6\\xa3\\xae', '\\xe8\\x8b\\xb1\\xe8\\x8b\\xb1', '\\xef\\xbc\\xab\\xef\\xbc\\xa1\\xef\\xbc\\xb4\\xef\\xbc\\xb3\\xef\\xbc\\xb5\\xef\\xbc\\xb9\\xef\\xbc\\xa1', '\\xef\\xbc\\xae\\xef\\xbc\\xaf\\xef\\xbc\\xa2\\xef\\xbc\\xa8\\xef\\xbc\\xa1\\xef\\xbc\\xb2\\xef\\xbc\\xb5']"
       ]
      },
      {
       "output_type": "stream",
       "stream": "stdout",
       "text": [
        "\n"
       ]
      }
     ],
     "prompt_number": 4
    },
    {
     "cell_type": "code",
     "collapsed": false,
     "input": [
      "# fill out another set using the Gendre mashape api\n",
      "\n",
      "# grab secrets\n",
      "\n",
      "import MySQLdb as mdb, sys\n",
      "import ssl\n",
      "# I'm using python 2.7, which doesn't get along with the requests package https settings.  \n",
      "#    the longer term solution is to upgrade python.\n",
      "import urllib3\n",
      "urllib3.disable_warnings()\n",
      "\n",
      "try:\n",
      "    con = mdb.connect('127.0.0.1', 'root', 'root', 'ibm_jam')\n",
      "    cur = con.cursor()\n",
      "    # grab list of unmatched names from gendered_names. 500 at a time, to do the 1000 limit in two parts\n",
      "    cur.execute('select full_name from gendered_names where gender = \"NOLOOKUP\"')\n",
      "    names = cur.fetchall()\n",
      "    json_list = []\n",
      "    counter = 0\n",
      "    for name in names:\n",
      "        counter += 1\n",
      "        split_name = name[0].split(\" \")\n",
      "        name_json = '\"firstName\":\"{}\",\"lastName\":\"{}\",\"id\":{}'.format(split_name[0], split_name[-1], counter)\n",
      "        json_list.append(name_json)\n",
      "except mdb.Error, e:\n",
      "    print \"Error %d: %s\" % (e.args[0], e.args[1])\n",
      "    sys.exit(1)\n",
      "\n",
      "finally:\n",
      "    if con:\n",
      "        con.close()\n",
      "\n",
      "print '{\"names\":[{' + \"},{\".join(json_list) + \"}]}\""
     ],
     "language": "python",
     "metadata": {},
     "outputs": [
      {
       "output_type": "stream",
       "stream": "stdout",
       "text": [
        "{\"names\":[{\"firstName\":\"Abdelghafou\",\"lastName\":\"Saidi\",\"id\":1},{\"firstName\":\"Abhaya\",\"lastName\":\"Agrawal\",\"id\":2},{\"firstName\":\"Abhitosh\",\"lastName\":\"Jain\",\"id\":3},{\"firstName\":\"Abhyuday\",\"lastName\":\"Karhadkar\",\"id\":4},{\"firstName\":\"Achirul\",\"lastName\":\"Djamal\",\"id\":5},{\"firstName\":\"Adalio\",\"lastName\":\"Sanchez\",\"id\":6},{\"firstName\":\"Ajithkumar\",\"lastName\":\"Balakrishna\",\"id\":7},{\"firstName\":\"Ajjima\",\"lastName\":\"Jiravichai\",\"id\":8},{\"firstName\":\"Akhileshwaran\",\"lastName\":\"Iyer\",\"id\":9},{\"firstName\":\"Akinao\",\"lastName\":\"Okamoto\",\"id\":10},{\"firstName\":\"Akiroh\",\"lastName\":\"Tanita\",\"id\":11},{\"firstName\":\"Akiyoshi\",\"lastName\":\"Kunimoto\",\"id\":12},{\"firstName\":\"Alcantaro\",\"lastName\":\"Correa\",\"id\":13},{\"firstName\":\"Anamitra\",\"lastName\":\"Dan\",\"id\":14},{\"firstName\":\"Ananthoj\",\"lastName\":\"Raghuram\",\"id\":15},{\"firstName\":\"Anchises\",\"lastName\":\"Ferreira\",\"id\":16},{\"firstName\":\"Anindo\",\"lastName\":\"Dutta\",\"id\":17},{\"firstName\":\"Annacarol\",\"lastName\":\"Olivier\",\"id\":18},{\"firstName\":\"Anncy\",\"lastName\":\"Ansari\",\"id\":19},{\"firstName\":\"Archary\",\"lastName\":\"Phoopat\",\"id\":20},{\"firstName\":\"Aremi\",\"lastName\":\"Castillo\",\"id\":21},{\"firstName\":\"Ariadi\",\"lastName\":\"Krebet\",\"id\":22},{\"firstName\":\"Ariantini\",\"lastName\":\"Yatim\",\"id\":23},{\"firstName\":\"Ariayuda\",\"lastName\":\"Satriagora\",\"id\":24},{\"firstName\":\"Armgard\",\"lastName\":\"Reden\",\"id\":25},{\"firstName\":\"Arnett\",\"lastName\":\"III\",\"id\":26},{\"firstName\":\"Arnim\",\"lastName\":\"Breycha\",\"id\":27},{\"firstName\":\"Aroopratan\",\"lastName\":\"Pandya\",\"id\":28},{\"firstName\":\"Arsanti\",\"lastName\":\"Kusumaningrum\",\"id\":29},{\"firstName\":\"Arunabha\",\"lastName\":\"Roy\",\"id\":30},{\"firstName\":\"Arunesh\",\"lastName\":\"Dixit\",\"id\":31},{\"firstName\":\"Aryotomo\",\"lastName\":\"Markam\",\"id\":32},{\"firstName\":\"Asoke\",\"lastName\":\"sarma\",\"id\":33},{\"firstName\":\"ATREYU\",\"lastName\":\"TSOU\",\"id\":34},{\"firstName\":\"Atulesh\",\"lastName\":\"Rastogi\",\"id\":35},{\"firstName\":\"AUSTI\",\"lastName\":\"TARTER\",\"id\":36},{\"firstName\":\"AYALLA\",\"lastName\":\"GOLDSCHMIDT\",\"id\":37},{\"firstName\":\"Badarinarayan\",\"lastName\":\"Garani\",\"id\":38},{\"firstName\":\"BAIRBRE\",\"lastName\":\"STEWART\",\"id\":39},{\"firstName\":\"Bajaj\",\"lastName\":\"Kapil\",\"id\":40},{\"firstName\":\"Balamani\",\"lastName\":\"Krishnan\",\"id\":41},{\"firstName\":\"Balaraja\",\"lastName\":\"Lakkanna\",\"id\":42},{\"firstName\":\"Balsha\",\"lastName\":\"Stanisic\",\"id\":43},{\"firstName\":\"Belavadi\",\"lastName\":\"Ramesh\",\"id\":44},{\"firstName\":\"BEOM\",\"lastName\":\"PARK\",\"id\":45},{\"firstName\":\"Bert-Willem\",\"lastName\":\"Geesink\",\"id\":46},{\"firstName\":\"Bhargava\",\"lastName\":\"Hukunda\",\"id\":47},{\"firstName\":\"Bijudas\",\"lastName\":\"Porathur\",\"id\":48},{\"firstName\":\"Boas\",\"lastName\":\"Betzler\",\"id\":49},{\"firstName\":\"Boxley\",\"lastName\":\"Llewellyn\",\"id\":50},{\"firstName\":\"Brahmananda\",\"lastName\":\"Ghosh\",\"id\":51},{\"firstName\":\"Breffini\",\"lastName\":\"Coffey\",\"id\":52},{\"firstName\":\"Brijith\",\"lastName\":\"Surendran\",\"id\":53},{\"firstName\":\"Britta-Cord\",\"lastName\":\"Dieckmann\",\"id\":54},{\"firstName\":\"Budge\",\"lastName\":\"Burgess\",\"id\":55},{\"firstName\":\"Cannie\",\"lastName\":\"Tsang\",\"id\":56},{\"firstName\":\"Carnel\",\"lastName\":\"Clarke\",\"id\":57},{\"firstName\":\"Carthel\",\"lastName\":\"Morrison\",\"id\":58},{\"firstName\":\"Caspian\",\"lastName\":\"Smith\",\"id\":59},{\"firstName\":\"Catelijne\",\"lastName\":\"Cloutour\",\"id\":60},{\"firstName\":\"Cateluta\",\"lastName\":\"Cucu\",\"id\":61},{\"firstName\":\"Chaiyo\",\"lastName\":\"Tangwongsan\",\"id\":62},{\"firstName\":\"Chandarsingh\",\"lastName\":\"Mehta\",\"id\":63},{\"firstName\":\"Chanikarn\",\"lastName\":\"Pronanun\",\"id\":64},{\"firstName\":\"Chassica\",\"lastName\":\"Braynen\",\"id\":65},{\"firstName\":\"Chenfang\",\"lastName\":\"Chen\",\"id\":66},{\"firstName\":\"Cheng-Chieh\",\"lastName\":\"Cheng\",\"id\":67},{\"firstName\":\"Chengad\",\"lastName\":\"Shashidhar\",\"id\":68},{\"firstName\":\"Chia-Lyn\",\"lastName\":\"Lai\",\"id\":69},{\"firstName\":\"Chinnappa\",\"lastName\":\"Raju\",\"id\":70},{\"firstName\":\"Chintamani\",\"lastName\":\"Sahoo\",\"id\":71},{\"firstName\":\"Chitmanas\",\"lastName\":\"Maksamphan\",\"id\":72},{\"firstName\":\"Chor\",\"lastName\":\"Ang\",\"id\":73},{\"firstName\":\"Chujit\",\"lastName\":\"Wattanalumlerd\",\"id\":74},{\"firstName\":\"Clair-Mael\",\"lastName\":\"Kaya\",\"id\":75},{\"firstName\":\"Claus-Joachim\",\"lastName\":\"Effenberger\",\"id\":76},{\"firstName\":\"Clemisom\",\"lastName\":\"Correia\",\"id\":77},{\"firstName\":\"COHAN\",\"lastName\":\"CARLOS\",\"id\":78},{\"firstName\":\"Conal\",\"lastName\":\"Hickey\",\"id\":79},{\"firstName\":\"Conda\",\"lastName\":\"Lashley\",\"id\":80},{\"firstName\":\"Condrojoko\",\"lastName\":\"Widjiasto\",\"id\":81},{\"firstName\":\"Corean\",\"lastName\":\"Strong\",\"id\":82},{\"firstName\":\"Crisoforo\",\"lastName\":\"Cardoso\",\"id\":83},{\"firstName\":\"Cuahuitldzul\",\"lastName\":\"Meza\",\"id\":84},{\"firstName\":\"Cyde\",\"lastName\":\"Creagh\",\"id\":85},{\"firstName\":\"Daiji\",\"lastName\":\"Yoshii\",\"id\":86},{\"firstName\":\"Daishin\",\"lastName\":\"Moroya\",\"id\":87},{\"firstName\":\"Dalen\",\"lastName\":\"Webb\",\"id\":88},{\"firstName\":\"Daneyand\",\"lastName\":\"Singley\",\"id\":89},{\"firstName\":\"De-Leon\",\"lastName\":\"Chen\",\"id\":90},{\"firstName\":\"Dharmarajan\",\"lastName\":\"Manjeri\",\"id\":91},{\"firstName\":\"Dikran\",\"lastName\":\"Mavissakalian\",\"id\":92},{\"firstName\":\"Docelyn\",\"lastName\":\"Lordeus\",\"id\":93},{\"firstName\":\"DONG-WOOK\",\"lastName\":\"LIM\",\"id\":94},{\"firstName\":\"Doniparti\",\"lastName\":\"Rao\",\"id\":95},{\"firstName\":\"Dravida\",\"lastName\":\"Seetharam\",\"id\":96},{\"firstName\":\"Dureid\",\"lastName\":\"Hilal\",\"id\":97},{\"firstName\":\"Durganadh\",\"lastName\":\"Venkata\",\"id\":98},{\"firstName\":\"Durgasankar\",\"lastName\":\"Mandal\",\"id\":99},{\"firstName\":\"Dutta\",\"lastName\":\"Abhijit\",\"id\":100},{\"firstName\":\"Dwaipayan\",\"lastName\":\"Banerjee\",\"id\":101},{\"firstName\":\"Eapen\",\"lastName\":\"Eapen\",\"id\":102},{\"firstName\":\"Ecm\",\"lastName\":\"Gcssys1\",\"id\":103},{\"firstName\":\"Edhi\",\"lastName\":\"Handoyo\",\"id\":104},{\"firstName\":\"Edigio\",\"lastName\":\"Rindone\",\"id\":105},{\"firstName\":\"Ehler\",\"lastName\":\"Lange\",\"id\":106},{\"firstName\":\"Eiichi\",\"lastName\":\"Iwata\",\"id\":107},{\"firstName\":\"Eiichi\",\"lastName\":\"Momiki\",\"id\":108},{\"firstName\":\"El-Moutaz\",\"lastName\":\"Shoukry\",\"id\":109},{\"firstName\":\"Elmano\",\"lastName\":\"Saldanha\",\"id\":110},{\"firstName\":\"Engo\",\"lastName\":\"Po\",\"id\":111},{\"firstName\":\"Ensio\",\"lastName\":\"Ruotsalainen\",\"id\":112},{\"firstName\":\"EVARISTUS\",\"lastName\":\"MAINSAH\",\"id\":113},{\"firstName\":\"Evvanna\",\"lastName\":\"Chua\",\"id\":114},{\"firstName\":\"Fengdao\",\"lastName\":\"Liu\",\"id\":115},{\"firstName\":\"Feraz\",\"lastName\":\"Ahamed\",\"id\":116},{\"firstName\":\"Fetra\",\"lastName\":\"Syahbana\",\"id\":117},{\"firstName\":\"Flaviu\",\"lastName\":\"Goicea\",\"id\":118},{\"firstName\":\"FLONA\",\"lastName\":\"CHEN\",\"id\":119},{\"firstName\":\"Forde\",\"lastName\":\"Smith\",\"id\":120},{\"firstName\":\"Friedel\",\"lastName\":\"Haese\",\"id\":121},{\"firstName\":\"Gambiraopet\",\"lastName\":\"kumar\",\"id\":122},{\"firstName\":\"Gannawan\",\"lastName\":\"Sakulchittacharoen\",\"id\":123},{\"firstName\":\"Gentaroh\",\"lastName\":\"Inose\",\"id\":124},{\"firstName\":\"Giel\",\"lastName\":\"Zijl\",\"id\":125},{\"firstName\":\"Girishkumar\",\"lastName\":\"Shah\",\"id\":126},{\"firstName\":\"Girma\",\"lastName\":\"Admasse\",\"id\":127},{\"firstName\":\"Goichi\",\"lastName\":\"Ohtsuka\",\"id\":128},{\"firstName\":\"Goichi\",\"lastName\":\"Suzaki\",\"id\":129},{\"firstName\":\"Golap\",\"lastName\":\"Ghosh\",\"id\":130},{\"firstName\":\"Gopala\",\"lastName\":\"Katragadda\",\"id\":131},{\"firstName\":\"Gopikrishnan\",\"lastName\":\"Gopalakrishnan\",\"id\":132},{\"firstName\":\"Gourishankar\",\"lastName\":\"Menon\",\"id\":133},{\"firstName\":\"Guanshan\",\"lastName\":\"Tong\",\"id\":134},{\"firstName\":\"Gynine\",\"lastName\":\"Bekech\",\"id\":135},{\"firstName\":\"Gyoergy\",\"lastName\":\"Molnar\",\"id\":136},{\"firstName\":\"Haiyang\",\"lastName\":\"Su\",\"id\":137},{\"firstName\":\"Hakem\",\"lastName\":\"Isa\",\"id\":138},{\"firstName\":\"Harshak\",\"lastName\":\"Chanchawat\",\"id\":139},{\"firstName\":\"Haun\",\"lastName\":\"Kerh\",\"id\":140},{\"firstName\":\"Hazuki\",\"lastName\":\"Hane\",\"id\":141},{\"firstName\":\"Hengkie\",\"lastName\":\"Kastono\",\"id\":142},{\"firstName\":\"Herminto\",\"lastName\":\"Herminto\",\"id\":143},{\"firstName\":\"HEUI\",\"lastName\":\"PARK\",\"id\":144},{\"firstName\":\"Hidemichi\",\"lastName\":\"Kobayashi\",\"id\":145},{\"firstName\":\"Hideshi\",\"lastName\":\"Nakamura\",\"id\":146},{\"firstName\":\"Hidetoshi\",\"lastName\":\"Kuboya\",\"id\":147},{\"firstName\":\"Hirokazu\",\"lastName\":\"Fukuzawa\",\"id\":148},{\"firstName\":\"Hirokazu\",\"lastName\":\"Yasumuro\",\"id\":149},{\"firstName\":\"Hironori\",\"lastName\":\"Hayasaka\",\"id\":150},{\"firstName\":\"Hironori\",\"lastName\":\"Makimura\",\"id\":151},{\"firstName\":\"Hironori\",\"lastName\":\"Narise\",\"id\":152},{\"firstName\":\"Hiroyasu\",\"lastName\":\"Takayanagi\",\"id\":153},{\"firstName\":\"Hisayoshi\",\"lastName\":\"Nomura\",\"id\":154},{\"firstName\":\"Hitansh\",\"lastName\":\"Singala\",\"id\":155},{\"firstName\":\"Hoki\",\"lastName\":\"Kim\",\"id\":156},{\"firstName\":\"Hongshu\",\"lastName\":\"Lu\",\"id\":157},{\"firstName\":\"Hormise\",\"lastName\":\"Parambil\",\"id\":158},{\"firstName\":\"Hrushikesh\",\"lastName\":\"Kulkarni\",\"id\":159},{\"firstName\":\"Huet\",\"lastName\":\"Sampson\",\"id\":160},{\"firstName\":\"Hung-Yang\",\"lastName\":\"Chang\",\"id\":161},{\"firstName\":\"HYANG\",\"lastName\":\"JEONG\",\"id\":162},{\"firstName\":\"Hyen-Vui\",\"lastName\":\"Chung\",\"id\":163},{\"firstName\":\"I.\",\"lastName\":\"Adnyana\",\"id\":164},{\"firstName\":\"Ichiroh\",\"lastName\":\"Nakagawa\",\"id\":165},{\"firstName\":\"Ignesius\",\"lastName\":\"Thambyraj\",\"id\":166},{\"firstName\":\"Ikujiroh\",\"lastName\":\"Kageyama\",\"id\":167},{\"firstName\":\"Illonka\",\"lastName\":\"Hines\",\"id\":168},{\"firstName\":\"Inayathulla\",\"lastName\":\"Khan\",\"id\":169},{\"firstName\":\"Inhi\",\"lastName\":\"Suh\",\"id\":170},{\"firstName\":\"Irmawita\",\"lastName\":\"Pulungan\",\"id\":171},{\"firstName\":\"Isamu\",\"lastName\":\"Mashima\",\"id\":172},{\"firstName\":\"Ishqi\",\"lastName\":\"Shuaib\",\"id\":173},{\"firstName\":\"Itzhack\",\"lastName\":\"Goldberg\",\"id\":174},{\"firstName\":\"Iwao\",\"lastName\":\"Aono\",\"id\":175},{\"firstName\":\"Iwao\",\"lastName\":\"Inagaki\",\"id\":176},{\"firstName\":\"Jacquelle\",\"lastName\":\"Leggett\",\"id\":177},{\"firstName\":\"Jaishinth\",\"lastName\":\"Nambiar\",\"id\":178},{\"firstName\":\"Jamello\",\"lastName\":\"Ingram\",\"id\":179},{\"firstName\":\"Jan-Olov\",\"lastName\":\"Carlsson\",\"id\":180},{\"firstName\":\"Janamejaya\",\"lastName\":\"Dharmapuri\",\"id\":181},{\"firstName\":\"Jarther\",\"lastName\":\"Taylor\",\"id\":182},{\"firstName\":\"Jasmail\",\"lastName\":\"Chaggar\",\"id\":183},{\"firstName\":\"Jayakumarindran\",\"lastName\":\"Thanakodi\",\"id\":184},{\"firstName\":\"Jayen\",\"lastName\":\"Ashar\",\"id\":185},{\"firstName\":\"Jeok\",\"lastName\":\"Tan\",\"id\":186},{\"firstName\":\"Jeylin\",\"lastName\":\"Blanco\",\"id\":187},{\"firstName\":\"Jianhuan\",\"lastName\":\"Wang\",\"id\":188},{\"firstName\":\"Jiede\",\"lastName\":\"Yang\",\"id\":189},{\"firstName\":\"Jiening\",\"lastName\":\"Lai\",\"id\":190},{\"firstName\":\"Jinghai\",\"lastName\":\"Xue\",\"id\":191},{\"firstName\":\"Joerg-Stephan\",\"lastName\":\"Vogt\",\"id\":192},{\"firstName\":\"Joydip\",\"lastName\":\"Sengupta\",\"id\":193},{\"firstName\":\"Jozefa\",\"lastName\":\"Terloo\",\"id\":194},{\"firstName\":\"Judin\",\"lastName\":\"Sukri\",\"id\":195},{\"firstName\":\"JUNG-HA\",\"lastName\":\"KIM\",\"id\":196},{\"firstName\":\"Jurek\",\"lastName\":\"Plona\",\"id\":197},{\"firstName\":\"Jutarat\",\"lastName\":\"Suksaereesarp\",\"id\":198},{\"firstName\":\"Jutatip\",\"lastName\":\"Sermpakdeekul\",\"id\":199},{\"firstName\":\"Jyotirmouli\",\"lastName\":\"Choudhury\",\"id\":200},{\"firstName\":\"KA-PING\",\"lastName\":\"YEE\",\"id\":201},{\"firstName\":\"Kam-Hung\",\"lastName\":\"Leung\",\"id\":202},{\"firstName\":\"Kamakshi\",\"lastName\":\"Besnard\",\"id\":203},{\"firstName\":\"Kamalanathan\",\"lastName\":\"Pasupathy\",\"id\":204},{\"firstName\":\"Kameshri\",\"lastName\":\"Vadali\",\"id\":205},{\"firstName\":\"Kameshwar\",\"lastName\":\"Shukla\",\"id\":206},{\"firstName\":\"Kamkeung\",\"lastName\":\"Ho\",\"id\":207},{\"firstName\":\"Kangguo\",\"lastName\":\"Cheng\",\"id\":208},{\"firstName\":\"Kanumuri\",\"lastName\":\"rao\",\"id\":209},{\"firstName\":\"Kartikaya\",\"lastName\":\"Gupta\",\"id\":210},{\"firstName\":\"Katsuo\",\"lastName\":\"Minami\",\"id\":211},{\"firstName\":\"Katsura\",\"lastName\":\"Itoh\",\"id\":212},{\"firstName\":\"Katsuto\",\"lastName\":\"Arai\",\"id\":213},{\"firstName\":\"Kazufu\",\"lastName\":\"Hotta\",\"id\":214},{\"firstName\":\"Kazys\",\"lastName\":\"Shukis\",\"id\":215},{\"firstName\":\"Kehaulani\",\"lastName\":\"Gerhard\",\"id\":216},{\"firstName\":\"Kei-Leung\",\"lastName\":\"Lun\",\"id\":217},{\"firstName\":\"Keiichiroh\",\"lastName\":\"Saga\",\"id\":218},{\"firstName\":\"Keijiroh\",\"lastName\":\"Kaneko\",\"id\":219},{\"firstName\":\"Kenichiroh\",\"lastName\":\"Ishizaki\",\"id\":220},{\"firstName\":\"Kenjirou\",\"lastName\":\"Tokunaga\",\"id\":221},{\"firstName\":\"Kensou\",\"lastName\":\"Arima\",\"id\":222},{\"firstName\":\"Kertapradana\",\"lastName\":\"Subagus\",\"id\":223},{\"firstName\":\"Kichihiko\",\"lastName\":\"Hasegawa\",\"id\":224},{\"firstName\":\"Kidane\",\"lastName\":\"Haile\",\"id\":225},{\"firstName\":\"Kimitake\",\"lastName\":\"Hobo\",\"id\":226},{\"firstName\":\"Kohichi\",\"lastName\":\"Kakikawa\",\"id\":227},{\"firstName\":\"Kohichi\",\"lastName\":\"Suzuki\",\"id\":228},{\"firstName\":\"Kohichiroh\",\"lastName\":\"Honda\",\"id\":229},{\"firstName\":\"Kohjiroh\",\"lastName\":\"Sue\",\"id\":230},{\"firstName\":\"Kohtaroh\",\"lastName\":\"Sakata\",\"id\":231},{\"firstName\":\"Kollipara\",\"lastName\":\"Kumar\",\"id\":232},{\"firstName\":\"Kothandapani\",\"lastName\":\"Lakshminarayanan\",\"id\":233},{\"firstName\":\"Kraisee\",\"lastName\":\"Chaipongpun\",\"id\":234},{\"firstName\":\"Krishnaswamy\",\"lastName\":\"Swaminathan\",\"id\":235},{\"firstName\":\"Krystein\",\"lastName\":\"French\",\"id\":236},{\"firstName\":\"Kulwadee\",\"lastName\":\"Oranphanskul\",\"id\":237},{\"firstName\":\"Kumaralingam\",\"lastName\":\"Mc\",\"id\":238},{\"firstName\":\"Kunaiki\",\"lastName\":\"Kageyama\",\"id\":239},{\"firstName\":\"Kunihiko\",\"lastName\":\"Miwa\",\"id\":240},{\"firstName\":\"KVL\",\"lastName\":\"Somayaji\",\"id\":241},{\"firstName\":\"Lakshmipaty\",\"lastName\":\"Vutukuri\",\"id\":242},{\"firstName\":\"Lalmani\",\"lastName\":\"Prasad\",\"id\":243},{\"firstName\":\"LASHANYA\",\"lastName\":\"AIKERSON\",\"id\":244},{\"firstName\":\"Latchoumi\",\"lastName\":\"Narayanan\",\"id\":245},{\"firstName\":\"LEE-TAI\",\"lastName\":\"NIU\",\"id\":246},{\"firstName\":\"Lee-Win\",\"lastName\":\"Tai\",\"id\":247},{\"firstName\":\"Leshek\",\"lastName\":\"Fiedorowicz\",\"id\":248},{\"firstName\":\"LETESHIA\",\"lastName\":\"LOWE\",\"id\":249},{\"firstName\":\"LI-FEN\",\"lastName\":\"LI\",\"id\":250},{\"firstName\":\"Liang-Jie\",\"lastName\":\"Zhang\",\"id\":251},{\"firstName\":\"Liliwaty\",\"lastName\":\"Tok\",\"id\":252},{\"firstName\":\"Lindamay\",\"lastName\":\"Patterson\",\"id\":253},{\"firstName\":\"Lingraju\",\"lastName\":\"Sawkar\",\"id\":254},{\"firstName\":\"Lo-Soun\",\"lastName\":\"Su\",\"id\":255},{\"firstName\":\"Lohn\",\"lastName\":\"Gartner\",\"id\":256},{\"firstName\":\"Lollins\",\"lastName\":\"Cheung\",\"id\":257},{\"firstName\":\"LOULWA\",\"lastName\":\"SALEM\",\"id\":258},{\"firstName\":\"Lubaina\",\"lastName\":\"Fidaali\",\"id\":259},{\"firstName\":\"Mackey\",\"lastName\":\"Morgan\",\"id\":260},{\"firstName\":\"Madhumalti\",\"lastName\":\"Sharma\",\"id\":261},{\"firstName\":\"Madih\",\"lastName\":\"Boukarfi\",\"id\":262},{\"firstName\":\"Maharajan\",\"lastName\":\"Rajarethinam\",\"id\":263},{\"firstName\":\"Mahendren\",\"lastName\":\"Munisamy\",\"id\":264},{\"firstName\":\"Maheshan\",\"lastName\":\"Kuttikkariyil\",\"id\":265},{\"firstName\":\"Maheshwar\",\"lastName\":\"Narayanan\",\"id\":266},{\"firstName\":\"Maheshwar\",\"lastName\":\"Inampudi\",\"id\":267},{\"firstName\":\"Malirat\",\"lastName\":\"Chinsupakul\",\"id\":268},{\"firstName\":\"Manjeri\",\"lastName\":\"Dharmarajan\",\"id\":269},{\"firstName\":\"Manjori\",\"lastName\":\"Ray\",\"id\":270},{\"firstName\":\"Mariels\",\"lastName\":\"Winhoffer\",\"id\":271},{\"firstName\":\"Marlucia\",\"lastName\":\"Santos-Polkiewicz\",\"id\":272},{\"firstName\":\"Marthand\",\"lastName\":\"Joshi\",\"id\":273},{\"firstName\":\"Masakazu\",\"lastName\":\"Nishide\",\"id\":274},{\"firstName\":\"Masazumi\",\"lastName\":\"Ozaki\",\"id\":275},{\"firstName\":\"MAXCER\",\"lastName\":\"LAI\",\"id\":276},{\"firstName\":\"Meenakshisundaram\",\"lastName\":\"Narayanan\",\"id\":277},{\"firstName\":\"Meenakshisundaram\",\"lastName\":\"Venkatasubramaniam\",\"id\":278},{\"firstName\":\"Mei-Leong\",\"lastName\":\"Leung\",\"id\":279},{\"firstName\":\"Meshlin\",\"lastName\":\"Khouri\",\"id\":280},{\"firstName\":\"Michinori\",\"lastName\":\"Nakamura\",\"id\":281},{\"firstName\":\"Mieczyslaw\",\"lastName\":\"Konczyk\",\"id\":282},{\"firstName\":\"Mikitoshi\",\"lastName\":\"Nishihashi\",\"id\":283},{\"firstName\":\"MIN-CHI\",\"lastName\":\"HUANG\",\"id\":284},{\"firstName\":\"Ming-Yin\",\"lastName\":\"Ng\",\"id\":285},{\"firstName\":\"Mingzhi\",\"lastName\":\"Chase\",\"id\":286},{\"firstName\":\"Mirio\",\"lastName\":\"Whitley\",\"id\":287},{\"firstName\":\"Mirvan\",\"lastName\":\"Wondracek\",\"id\":288},{\"firstName\":\"Mithkal\",\"lastName\":\"Smadi\",\"id\":289},{\"firstName\":\"Moerachmi\",\"lastName\":\"Wahyuningsih\",\"id\":290},{\"firstName\":\"Moniak\",\"lastName\":\"Gascon\",\"id\":291},{\"firstName\":\"Montser\",\"lastName\":\"Presmanes\",\"id\":292},{\"firstName\":\"Mooi\",\"lastName\":\"Wong\",\"id\":293},{\"firstName\":\"Moshe-Dov\",\"lastName\":\"Friedman\",\"id\":294},{\"firstName\":\"Motoharu\",\"lastName\":\"Fujii\",\"id\":295},{\"firstName\":\"Motoyuki\",\"lastName\":\"Suzuki\",\"id\":296},{\"firstName\":\"Motoyuki\",\"lastName\":\"Tohma\",\"id\":297},{\"firstName\":\"Mouttoucoumarane\",\"lastName\":\"Striramassarma\",\"id\":298},{\"firstName\":\"Mteto\",\"lastName\":\"Nyati\",\"id\":299},{\"firstName\":\"Mukundan\",\"lastName\":\"Sundararajan\",\"id\":300},{\"firstName\":\"Muppala\",\"lastName\":\"Raju\",\"id\":301},{\"firstName\":\"Nadalette\",\"lastName\":\"La-Fonta-Six\",\"id\":302},{\"firstName\":\"Nallu\",\"lastName\":\"Reddy\",\"id\":303},{\"firstName\":\"Naohiko\",\"lastName\":\"Kimura\",\"id\":304},{\"firstName\":\"Nataraja\",\"lastName\":\"Kota\",\"id\":305},{\"firstName\":\"Natsuaki\",\"lastName\":\"Sasaki\",\"id\":306},{\"firstName\":\"Naveenbabu\",\"lastName\":\"Garikapati\",\"id\":307},{\"firstName\":\"NAWEJ\",\"lastName\":\"MWEZ\",\"id\":308},{\"firstName\":\"Neeran\",\"lastName\":\"Karnik\",\"id\":309},{\"firstName\":\"Nii-Boi\",\"lastName\":\"Kotei\",\"id\":310},{\"firstName\":\"Nirjhar\",\"lastName\":\"Ghosh\",\"id\":311},{\"firstName\":\"Nirva\",\"lastName\":\"Ghelani\",\"id\":312},{\"firstName\":\"Nithitus\",\"lastName\":\"Upatumvipanon\",\"id\":313},{\"firstName\":\"Nobuo\",\"lastName\":\"Tayama\",\"id\":314},{\"firstName\":\"Noriitsu\",\"lastName\":\"Takizawa\",\"id\":315},{\"firstName\":\"Norishige\",\"lastName\":\"Morimoto\",\"id\":316},{\"firstName\":\"Nuggu\",\"lastName\":\"Satishkumar\",\"id\":317},{\"firstName\":\"Nurhayatie\",\"lastName\":\"Subagyo\",\"id\":318},{\"firstName\":\"Osler\",\"lastName\":\"Guiang\",\"id\":319},{\"firstName\":\"Othonas\",\"lastName\":\"Xixis\",\"id\":320},{\"firstName\":\"Ozias\",\"lastName\":\"Moore\",\"id\":321},{\"firstName\":\"Pagadala\",\"lastName\":\"Suresh\",\"id\":322},{\"firstName\":\"Paisal\",\"lastName\":\"Srinavarat\",\"id\":323},{\"firstName\":\"Palukuru\",\"lastName\":\"Sekhararao\",\"id\":324},{\"firstName\":\"Paraic\",\"lastName\":\"Sweeney\",\"id\":325},{\"firstName\":\"Parnsiree\",\"lastName\":\"Amatayakul\",\"id\":326},{\"firstName\":\"Parthy\",\"lastName\":\"Walker\",\"id\":327},{\"firstName\":\"Paymon\",\"lastName\":\"Vasseghi\",\"id\":328},{\"firstName\":\"Penchan\",\"lastName\":\"Yodrach\",\"id\":329},{\"firstName\":\"Peping\",\"lastName\":\"Fong\",\"id\":330},{\"firstName\":\"Periasamy\",\"lastName\":\"Girirajan\",\"id\":331},{\"firstName\":\"Permal\",\"lastName\":\"Balachandran\",\"id\":332},{\"firstName\":\"Petchareepun\",\"lastName\":\"Dejdecha\",\"id\":333},{\"firstName\":\"Phay\",\"lastName\":\"Kang\",\"id\":334},{\"firstName\":\"Pitipong\",\"lastName\":\"Veerakamolmal\",\"id\":335},{\"firstName\":\"PRADIPTO\",\"lastName\":\"BAGCHI\",\"id\":336},{\"firstName\":\"Pranabesh\",\"lastName\":\"Bhaumik\",\"id\":337},{\"firstName\":\"Prashul\",\"lastName\":\"Kumar\",\"id\":338},{\"firstName\":\"Prithwis\",\"lastName\":\"Mukerjee\",\"id\":339},{\"firstName\":\"Prok\",\"lastName\":\"Svoboda\",\"id\":340},{\"firstName\":\"Pryor\",\"lastName\":\"Garnett\",\"id\":341},{\"firstName\":\"Puminisha\",\"lastName\":\"Naidoo\",\"id\":342},{\"firstName\":\"Puntarika\",\"lastName\":\"Muntanon\",\"id\":343},{\"firstName\":\"Puntarika\",\"lastName\":\"Pucksomporn\",\"id\":344},{\"firstName\":\"Qiouliang\",\"lastName\":\"Li\",\"id\":345},{\"firstName\":\"Quiedo\",\"lastName\":\"Carbone\",\"id\":346},{\"firstName\":\"R.\",\"lastName\":\"murthy\",\"id\":347},{\"firstName\":\"Rachmil\",\"lastName\":\"Jacobovits\",\"id\":348},{\"firstName\":\"Raghubansh\",\"lastName\":\"Kumar\",\"id\":349},{\"firstName\":\"Raghunadha\",\"lastName\":\"Anna\",\"id\":350},{\"firstName\":\"Raghuraman\",\"lastName\":\"Sankaranarayanan\",\"id\":351},{\"firstName\":\"Rajamanickam\",\"lastName\":\"Ponmudi\",\"id\":352},{\"firstName\":\"Rajeeta\",\"lastName\":\"Shah\",\"id\":353},{\"firstName\":\"Rajorshi\",\"lastName\":\"Datta\",\"id\":354},{\"firstName\":\"Rajshekar\",\"lastName\":\"Iyer\",\"id\":355},{\"firstName\":\"Ramanjaneya\",\"lastName\":\"Burugula\",\"id\":356},{\"firstName\":\"Ramender\",\"lastName\":\"Kishore\",\"id\":357},{\"firstName\":\"Raminderpal\",\"lastName\":\"Singh\",\"id\":358},{\"firstName\":\"Ranat\",\"lastName\":\"Thopunya\",\"id\":359},{\"firstName\":\"RANGACHARI\",\"lastName\":\"ANAND\",\"id\":360},{\"firstName\":\"Rangan\",\"lastName\":\"Nandakumar\",\"id\":361},{\"firstName\":\"Ranganadh\",\"lastName\":\"Basavarsu\",\"id\":362},{\"firstName\":\"Rastogi\",\"lastName\":\"Deepesh\",\"id\":363},{\"firstName\":\"Raviana\",\"lastName\":\"Hassan\",\"id\":364},{\"firstName\":\"Ravikishor\",\"lastName\":\"Mundada\",\"id\":365},{\"firstName\":\"Ravishekhar\",\"lastName\":\"Mahajan\",\"id\":366},{\"firstName\":\"Rayarathil\",\"lastName\":\"Muralidharan\",\"id\":367},{\"firstName\":\"Razy\",\"lastName\":\"Martin\",\"id\":368},{\"firstName\":\"Razy\",\"lastName\":\"Martin\",\"id\":369},{\"firstName\":\"Reazul\",\"lastName\":\"Huda\",\"id\":370},{\"firstName\":\"Regalado\",\"lastName\":\"Marcelino\",\"id\":371},{\"firstName\":\"Reinfried\",\"lastName\":\"Janisch\",\"id\":372},{\"firstName\":\"Renlu\",\"lastName\":\"Gao\",\"id\":373},{\"firstName\":\"Rexford\",\"lastName\":\"Ballard\",\"id\":374},{\"firstName\":\"Rhonni\",\"lastName\":\"Vazquez\",\"id\":375},{\"firstName\":\"Ribhu\",\"lastName\":\"Sinha\",\"id\":376},{\"firstName\":\"Riggan\",\"lastName\":\"Shilstone\",\"id\":377},{\"firstName\":\"Risdianto\",\"lastName\":\"Charis\",\"id\":378},{\"firstName\":\"Rolinda\",\"lastName\":\"Carrington-Rhone\",\"id\":379},{\"firstName\":\"Rubani\",\"lastName\":\"Ismail\",\"id\":380},{\"firstName\":\"Ruegen\",\"lastName\":\"Leicht\",\"id\":381},{\"firstName\":\"Ruhryanto\",\"lastName\":\"Nugroho\",\"id\":382},{\"firstName\":\"Rusine\",\"lastName\":\"Mitchell-Sinclair\",\"id\":383},{\"firstName\":\"Ryuhichi\",\"lastName\":\"Nishihori\",\"id\":384},{\"firstName\":\"Ryuhichi\",\"lastName\":\"Shimizu\",\"id\":385},{\"firstName\":\"Sachdeva\",\"lastName\":\"Manav\",\"id\":386},{\"firstName\":\"Sachidanandam\",\"lastName\":\"Ganesan\",\"id\":387},{\"firstName\":\"Sadanobu\",\"lastName\":\"Morimoto\",\"id\":388},{\"firstName\":\"Safriatun\",\"lastName\":\"Prianggarin\",\"id\":389},{\"firstName\":\"Sai-Wing\",\"lastName\":\"Ho\",\"id\":390},{\"firstName\":\"Saidin\",\"lastName\":\"Hasannudin\",\"id\":391},{\"firstName\":\"Sakumei\",\"lastName\":\"Shu\",\"id\":392},{\"firstName\":\"SAMAY\",\"lastName\":\"VITHLANI\",\"id\":393},{\"firstName\":\"Sandrino\",\"lastName\":\"Bellini\",\"id\":394},{\"firstName\":\"Sangravee\",\"lastName\":\"Vipulakom\",\"id\":395},{\"firstName\":\"Sankarakrishnan\",\"lastName\":\"Raman\",\"id\":396},{\"firstName\":\"Sanman\",\"lastName\":\"Deshpande\",\"id\":397},{\"firstName\":\"Satyaprakash\",\"lastName\":\"Prashant\",\"id\":398},{\"firstName\":\"Sauw\",\"lastName\":\"Low\",\"id\":399},{\"firstName\":\"Sawit\",\"lastName\":\"Soothipunt\",\"id\":400},{\"firstName\":\"Sayileela\",\"lastName\":\"Nulu\",\"id\":401},{\"firstName\":\"Seelan\",\"lastName\":\"Nayagam\",\"id\":402},{\"firstName\":\"Seep\",\"lastName\":\"Chong\",\"id\":403},{\"firstName\":\"Sekiko\",\"lastName\":\"Yoshimura\",\"id\":404},{\"firstName\":\"Selvaprabhu\",\"lastName\":\"Arumuggharaj\",\"id\":405},{\"firstName\":\"Seraphim\",\"lastName\":\"Gisetti\",\"id\":406},{\"firstName\":\"Sharmey\",\"lastName\":\"Shah\",\"id\":407},{\"firstName\":\"Sharnette\",\"lastName\":\"Mitchell\",\"id\":408},{\"firstName\":\"Sheang\",\"lastName\":\"Ng\",\"id\":409},{\"firstName\":\"Shengdong\",\"lastName\":\"Chen\",\"id\":410},{\"firstName\":\"Shianny\",\"lastName\":\"Kusumawati\",\"id\":411},{\"firstName\":\"Shigehito\",\"lastName\":\"Toyonaga\",\"id\":412},{\"firstName\":\"Shigetoshi\",\"lastName\":\"Takagi\",\"id\":413},{\"firstName\":\"SHINICHIROH\",\"lastName\":\"SUMIDA\",\"id\":414},{\"firstName\":\"Shinichiroh\",\"lastName\":\"Yamada\",\"id\":415},{\"firstName\":\"Shinpei\",\"lastName\":\"Shiotsu\",\"id\":416},{\"firstName\":\"Shinpei\",\"lastName\":\"Yabushita\",\"id\":417},{\"firstName\":\"Shinsuke\",\"lastName\":\"Takahashi\",\"id\":418},{\"firstName\":\"Shivalik\",\"lastName\":\"Prasad\",\"id\":419},{\"firstName\":\"Shivananjaiah\",\"lastName\":\"Gowda\",\"id\":420},{\"firstName\":\"Shivraj\",\"lastName\":\"Bhusad\",\"id\":421},{\"firstName\":\"Shohji\",\"lastName\":\"Shukuya\",\"id\":422},{\"firstName\":\"Shunichi\",\"lastName\":\"Ohyabu\",\"id\":423},{\"firstName\":\"Shunichi\",\"lastName\":\"Satoh\",\"id\":424},{\"firstName\":\"Shwetal\",\"lastName\":\"Parikh\",\"id\":425},{\"firstName\":\"Sik\",\"lastName\":\"Chiang\",\"id\":426},{\"firstName\":\"Singpui\",\"lastName\":\"Zee\",\"id\":427},{\"firstName\":\"Siriluk\",\"lastName\":\"Assavavutipong\",\"id\":428},{\"firstName\":\"Sitharaman\",\"lastName\":\"r\",\"id\":429},{\"firstName\":\"Sombut\",\"lastName\":\"Kasemlonnapa\",\"id\":430},{\"firstName\":\"Sondhaya\",\"lastName\":\"Sudhamasapa\",\"id\":431},{\"firstName\":\"Sonpreet\",\"lastName\":\"Bhatia\",\"id\":432},{\"firstName\":\"Soochul\",\"lastName\":\"Bang\",\"id\":433},{\"firstName\":\"SOONG\",\"lastName\":\"JO\",\"id\":434},{\"firstName\":\"SOONG\",\"lastName\":\"JO\",\"id\":435},{\"firstName\":\"Sotaro\",\"lastName\":\"Nimura\",\"id\":436},{\"firstName\":\"Sreenivasulu\",\"lastName\":\"Indireddysinga\",\"id\":437},{\"firstName\":\"Srijnan\",\"lastName\":\"Sanyal\",\"id\":438},{\"firstName\":\"Srikrishnan\",\"lastName\":\"Sundararajan\",\"id\":439},{\"firstName\":\"Sripathi\",\"lastName\":\"Kodi\",\"id\":440},{\"firstName\":\"Sriprakash\",\"lastName\":\"Swain\",\"id\":441},{\"firstName\":\"Srisuda\",\"lastName\":\"Sengsakdi\",\"id\":442},{\"firstName\":\"Subhayu\",\"lastName\":\"Chatterjee\",\"id\":443},{\"firstName\":\"Subramanya\",\"lastName\":\"Bhat\",\"id\":444},{\"firstName\":\"Suchithra\",\"lastName\":\"Prabhu\",\"id\":445},{\"firstName\":\"Sugunthakumari\",\"lastName\":\"Rathinavelu\",\"id\":446},{\"firstName\":\"Suket\",\"lastName\":\"Trakru\",\"id\":447},{\"firstName\":\"Sulong\",\"lastName\":\"Suhaimi\",\"id\":448},{\"firstName\":\"Sumeru\",\"lastName\":\"Sumargo\",\"id\":449},{\"firstName\":\"Sundaresh\",\"lastName\":\"Biligi\",\"id\":450},{\"firstName\":\"Sunmoon\",\"lastName\":\"Kim\",\"id\":451},{\"firstName\":\"Suphajee\",\"lastName\":\"Suthumpun\",\"id\":452},{\"firstName\":\"Supot\",\"lastName\":\"Chokwareeporn\",\"id\":453},{\"firstName\":\"Surendrababu\",\"lastName\":\"Pesala\",\"id\":454},{\"firstName\":\"Suryadipta\",\"lastName\":\"Datta\",\"id\":455},{\"firstName\":\"Suthimarn\",\"lastName\":\"Benjapornkulpong\",\"id\":456},{\"firstName\":\"Sys\",\"lastName\":\"Monefeldt\",\"id\":457},{\"firstName\":\"Syunichi\",\"lastName\":\"Mukai\",\"id\":458},{\"firstName\":\"Tagbo\",\"lastName\":\"Ekwueme-Okoli\",\"id\":459},{\"firstName\":\"Takaharu\",\"lastName\":\"Itoh\",\"id\":460},{\"firstName\":\"Takaharu\",\"lastName\":\"Kakinuma\",\"id\":461},{\"firstName\":\"Takahisa\",\"lastName\":\"Nagai\",\"id\":462},{\"firstName\":\"Takanobu\",\"lastName\":\"Satoh\",\"id\":463},{\"firstName\":\"Takefumi\",\"lastName\":\"Murayama\",\"id\":464},{\"firstName\":\"Takehito\",\"lastName\":\"Kaneko\",\"id\":465},{\"firstName\":\"Takiko\",\"lastName\":\"Kuramochi\",\"id\":466},{\"firstName\":\"Tananya\",\"lastName\":\"Tiemkaew\",\"id\":467},{\"firstName\":\"Tanapong\",\"lastName\":\"Ittisakulchai\",\"id\":468},{\"firstName\":\"Tasker\",\"lastName\":\"Generes\",\"id\":469},{\"firstName\":\"Tatsuji\",\"lastName\":\"Shudoh\",\"id\":470},{\"firstName\":\"Tatsuo\",\"lastName\":\"Ikemi\",\"id\":471},{\"firstName\":\"Tatsushi\",\"lastName\":\"Chikamoto\",\"id\":472},{\"firstName\":\"Tavence\",\"lastName\":\"Kang\",\"id\":473},{\"firstName\":\"Teiji\",\"lastName\":\"Kimball\",\"id\":474},{\"firstName\":\"Teruhiko\",\"lastName\":\"Kawashima\",\"id\":475},{\"firstName\":\"Teruo\",\"lastName\":\"Shimizu\",\"id\":476},{\"firstName\":\"Tervinderjit\",\"lastName\":\"Singh\",\"id\":477},{\"firstName\":\"Tetsune\",\"lastName\":\"Toyokawa\",\"id\":478},{\"firstName\":\"Thadikamala\",\"lastName\":\"Kumar\",\"id\":479},{\"firstName\":\"Thamijvany\",\"lastName\":\"Lakshman\",\"id\":480},{\"firstName\":\"Thamrong\",\"lastName\":\"Phongthitithep\",\"id\":481},{\"firstName\":\"Thanai\",\"lastName\":\"Aswthanarayana\",\"id\":482},{\"firstName\":\"Tharcila\",\"lastName\":\"Silva\",\"id\":483},{\"firstName\":\"Tjark\",\"lastName\":\"Kalow\",\"id\":484},{\"firstName\":\"Tohroku\",\"lastName\":\"Kuzumi\",\"id\":485},{\"firstName\":\"Tomitaroh\",\"lastName\":\"Anzai\",\"id\":486},{\"firstName\":\"Toshihisa\",\"lastName\":\"Shibata\",\"id\":487},{\"firstName\":\"Towney\",\"lastName\":\"Kennard\",\"id\":488},{\"firstName\":\"Toyomi\",\"lastName\":\"Takeda\",\"id\":489},{\"firstName\":\"Traduction\",\"lastName\":\"WorldJam\",\"id\":490},{\"firstName\":\"Trigantoro\",\"lastName\":\"Bramaningtyas\",\"id\":491},{\"firstName\":\"Trirat\",\"lastName\":\"Ratanachand\",\"id\":492},{\"firstName\":\"Triveni\",\"lastName\":\"Sarda\",\"id\":493},{\"firstName\":\"Tuila\",\"lastName\":\"Securato\",\"id\":494},{\"firstName\":\"Tybra\",\"lastName\":\"Arthur\",\"id\":495},{\"firstName\":\"Ullas\",\"lastName\":\"Kunjukunju\",\"id\":496},{\"firstName\":\"Upparchinta\",\"lastName\":\"Harigopal\",\"id\":497},{\"firstName\":\"USHIN\",\"lastName\":\"NISHIMURA\",\"id\":498},{\"firstName\":\"Vananzo\",\"lastName\":\"Eaton\",\"id\":499},{\"firstName\":\"Vandrangi\",\"lastName\":\"Prasad\",\"id\":500},{\"firstName\":\"Vellamuthu\",\"lastName\":\"Unnikrishnan\",\"id\":501},{\"firstName\":\"Venida\",\"lastName\":\"Hudley\",\"id\":502},{\"firstName\":\"Venkatachalam\",\"lastName\":\"Ramasubramani\",\"id\":503},{\"firstName\":\"Venkataraghavan\",\"lastName\":\"Narayan\",\"id\":504},{\"firstName\":\"Venkateswarara\",\"lastName\":\"Jujjuri\",\"id\":505},{\"firstName\":\"Venkateswarlu\",\"lastName\":\"Veludandi\",\"id\":506},{\"firstName\":\"Venugopala\",\"lastName\":\"Vemula\",\"id\":507},{\"firstName\":\"Venukrishnan\",\"lastName\":\"Unnikrishnan\",\"id\":508},{\"firstName\":\"Vibhas\",\"lastName\":\"Khopade\",\"id\":509},{\"firstName\":\"Vijaylaxmi\",\"lastName\":\"Chakravarty\",\"id\":510},{\"firstName\":\"Vijoi\",\"lastName\":\"Ho\",\"id\":511},{\"firstName\":\"Vimalraj\",\"lastName\":\"Abraham\",\"id\":512},{\"firstName\":\"Vinaysimha\",\"lastName\":\"Hemmige\",\"id\":513},{\"firstName\":\"Visda\",\"lastName\":\"Vokhshoori\",\"id\":514},{\"firstName\":\"Vishnuvardhanan\",\"lastName\":\"Varavoor\",\"id\":515},{\"firstName\":\"Visveshwar\",\"lastName\":\"Reddy\",\"id\":516},{\"firstName\":\"Vratesh\",\"lastName\":\"Parmar\",\"id\":517},{\"firstName\":\"Wakiko\",\"lastName\":\"Mochizuki\",\"id\":518},{\"firstName\":\"Waters\",\"lastName\":\"Wan\",\"id\":519},{\"firstName\":\"WAYEN\",\"lastName\":\"WU\",\"id\":520},{\"firstName\":\"WEBBOR\",\"lastName\":\"LEE\",\"id\":521},{\"firstName\":\"Wenkai\",\"lastName\":\"Chen\",\"id\":522},{\"firstName\":\"Wiboon\",\"lastName\":\"Thanandornsuk\",\"id\":523},{\"firstName\":\"Widita\",\"lastName\":\"Sardjono\",\"id\":524},{\"firstName\":\"Widjaya\",\"lastName\":\"Sutantio\",\"id\":525},{\"firstName\":\"Wirt\",\"lastName\":\"Cook\",\"id\":526},{\"firstName\":\"Woo-Ping\",\"lastName\":\"Ho\",\"id\":527},{\"firstName\":\"Xianghong\",\"lastName\":\"Chen\",\"id\":528},{\"firstName\":\"Xinghong\",\"lastName\":\"He\",\"id\":529},{\"firstName\":\"YA-PING\",\"lastName\":\"HSU\",\"id\":530},{\"firstName\":\"Yalmaz\",\"lastName\":\"Siddiqui\",\"id\":531},{\"firstName\":\"Yasuhisa\",\"lastName\":\"Fukuta\",\"id\":532},{\"firstName\":\"Yasunori\",\"lastName\":\"Akenaga\",\"id\":533},{\"firstName\":\"Yee-Kang\",\"lastName\":\"Chang\",\"id\":534},{\"firstName\":\"YEONHO\",\"lastName\":\"YOO\",\"id\":535},{\"firstName\":\"YI-HONG\",\"lastName\":\"WANG\",\"id\":536},{\"firstName\":\"Yoelle\",\"lastName\":\"Maarek\",\"id\":537},{\"firstName\":\"Yohichiro\",\"lastName\":\"Furukawa\",\"id\":538},{\"firstName\":\"Yonetaro\",\"lastName\":\"Kawada\",\"id\":539},{\"firstName\":\"Yoshiji\",\"lastName\":\"Hattori\",\"id\":540},{\"firstName\":\"Yugan\",\"lastName\":\"Puthiran\",\"id\":541},{\"firstName\":\"Yuhji\",\"lastName\":\"Yamaga\",\"id\":542},{\"firstName\":\"Yuhko\",\"lastName\":\"Hamasaki\",\"id\":543},{\"firstName\":\"Yuin\",\"lastName\":\"Chue\",\"id\":544},{\"firstName\":\"Yunes\",\"lastName\":\"Timol\",\"id\":545},{\"firstName\":\"Zainun\",\"lastName\":\"Jeffery\",\"id\":546},{\"firstName\":\"Zanell\",\"lastName\":\"Lewis\",\"id\":547},{\"firstName\":\"Zengyu\",\"lastName\":\"Du\",\"id\":548}]}\n"
       ]
      }
     ],
     "prompt_number": 28
    },
    {
     "cell_type": "code",
     "collapsed": false,
     "input": [
      "import json\n",
      "with open(\"/Users/clarkbernier/Dropbox/IBM Local/data/gendre_response_last_600_names.json\",'r') as f:   \n",
      "    json_str = f.read()\n",
      "    \n",
      "json_str = \"{\" + json_str.split(\"{\", 1)[-1]\n",
      "json_obj = json.loads(json_str)\n",
      "\n",
      "# we need to get the original full names so that we can map the first:last pairs to the name in the db\n",
      "import MySQLdb as mdb, sys\n",
      "try:\n",
      "    con = mdb.connect('127.0.0.1', 'root', 'root', 'ibm_jam')\n",
      "    cur = con.cursor()\n",
      "    # grab list of unmatched names from gendered_names. 500 at a time, to do the 1000 limit in two parts\n",
      "    cur.execute('select full_name from gendered_names where gender = \"NOLOOKUP\"')\n",
      "    names = cur.fetchall()\n",
      "    full_name_lookup = dict()\n",
      "    for name in names:\n",
      "        split_name = name[0].split(\" \")\n",
      "        first_last = split_name[0] + \"_\" + split_name[-1]\n",
      "        full_name_lookup[first_last] = name[0]\n",
      "    \n",
      "    # map back to original names and insert into the DB if there's a gender that we trust\n",
      "    for name_ret in json_obj[\"names\"]:\n",
      "        first_last = name_ret[\"firstName\"] + \"_\" + name_ret[\"lastName\"]\n",
      "        if (first_last in full_name_lookup):\n",
      "            #print name_ret[\"firstName\"] + \": \" + str(name_ret[\"scale\"]) + \" :: \" + full_name_lookup[first_last]\n",
      "            gender = \"unclear\"\n",
      "            if (abs(name_ret[\"scale\"]) > 0.5):\n",
      "                gender = name_ret[\"gender\"]\n",
      "            if (name_ret[\"scale\"] == 0):\n",
      "                gender = \"unknown\"\n",
      "            cur.execute('UPDATE gendered_names SET gender=%s WHERE full_name=%s',(gender, full_name_lookup[first_last]))\n",
      "    con.commit()        \n",
      "except mdb.Error, e:\n",
      "    print \"Error %d: %s\" % (e.args[0], e.args[1])\n",
      "    sys.exit(1)\n",
      "\n",
      "finally:\n",
      "    if con:\n",
      "        con.close()\n"
     ],
     "language": "python",
     "metadata": {},
     "outputs": [],
     "prompt_number": 63
    },
    {
     "cell_type": "code",
     "collapsed": false,
     "input": [
      "a = []\n",
      "a.append(\"65\")\n",
      "a.append(\"gfsdg\")\n",
      "print \"sdfgsdf\".join(a)"
     ],
     "language": "python",
     "metadata": {},
     "outputs": [
      {
       "output_type": "stream",
       "stream": "stdout",
       "text": [
        "65sdfgsdfgfsdg\n"
       ]
      }
     ],
     "prompt_number": 60
    },
    {
     "cell_type": "code",
     "collapsed": false,
     "input": [
      "a = dict()\n",
      "a[\"45\"] = \"trew\"\n",
      "a[\"atrsg\"] = \"trasdew\"\n",
      "print a"
     ],
     "language": "python",
     "metadata": {},
     "outputs": [
      {
       "output_type": "stream",
       "stream": "stdout",
       "text": [
        "{'atrsg': 'trasdew', '45': 'trew'}\n"
       ]
      }
     ],
     "prompt_number": 47
    },
    {
     "cell_type": "code",
     "collapsed": false,
     "input": [],
     "language": "python",
     "metadata": {},
     "outputs": []
    }
   ],
   "metadata": {}
  }
 ]
}