{
 "metadata": {
  "name": "",
  "signature": "sha256:7964d3ffb25426588a803d0db990510db6a4419f4b750da20a4a36011e19c8b3"
 },
 "nbformat": 3,
 "nbformat_minor": 0,
 "worksheets": [
  {
   "cells": [
    {
     "cell_type": "code",
     "collapsed": false,
     "input": [
      "import requests, json\n",
      "\n",
      "def getGenders(names):\n",
      "\turl = \"\"\n",
      "\tcnt = 0\n",
      "\tfor name in names:\n",
      "\t\tif url == \"\":\n",
      "\t\t\turl = \"name[0]=\" + name\n",
      "\t\telse:\n",
      "\t\t\tcnt += 1\n",
      "\t\t\turl = url + \"&name[\" + str(cnt) + \"]=\" + name\n",
      "\t\t\n",
      "\n",
      "\treq = requests.get(\"http://api.genderize.io?\" + url)\n",
      "\tresults = json.loads(req.text)\n",
      "\t\n",
      "\tretrn = []\n",
      "\tfor result in results:\n",
      "\t\tif result[\"gender\"] is not None:\n",
      "\t\t\tretrn.append((result[\"name\"],result[\"gender\"], result[\"probability\"], result[\"count\"]))\n",
      "\t\telse:\n",
      "\t\t\tretrn.append((result[\"name\"], u'None',u'0.0',0.0))\n",
      "\treturn retrn"
     ],
     "language": "python",
     "metadata": {},
     "outputs": [],
     "prompt_number": 46
    },
    {
     "cell_type": "code",
     "collapsed": false,
     "input": [
      "import MySQLdb as mdb, sys\n",
      "\n",
      "try:\n",
      "    con = mdb.connect('127.0.0.1', 'root', 'root', 'ibm_jam')\n",
      "    cur = con.cursor()\n",
      "    \n",
      "    # grab list of unmatched names from gendered_names\n",
      "    cur.execute(\"select distinct(ucase(full_name)) from gendered_names where gender is Null;\")\n",
      "    names = cur.fetchall()\n",
      "    \n",
      "    # first, any where there are no full first names, just initials, set to unknown gender\n",
      "    for name in names:\n",
      "        name = name[0]\n",
      "        if name.strip().count(' ') - name.strip().count('.') <= 0: \n",
      "            print \"updating {}\".format(name)\n",
      "          \n",
      "            cur.execute('UPDATE gendered_names SET gender=%s WHERE full_name=%s',('unknown',name))\n",
      "    con.commit()    \n",
      "except _mysql.Error, e:\n",
      "  \n",
      "    print \"Error %d: %s\" % (e.args[0], e.args[1])\n",
      "    sys.exit(1)\n",
      "\n",
      "finally:\n",
      "    \n",
      "    if con:\n",
      "        con.close()\n",
      "        \n",
      "# put the looked-up names in the gender lookup table\n",
      "\n",
      "# update genedered_names to include the newly gendered names\n",
      "\n"
     ],
     "language": "python",
     "metadata": {},
     "outputs": []
    },
    {
     "cell_type": "code",
     "collapsed": false,
     "input": [
      "s = \"Harry G. Wells\"\n",
      "ss = s.split(\".\")\n",
      "print ss[-1].strip().count(' ')\n",
      "print s.strip().count(' ') - s.strip().count('.')"
     ],
     "language": "python",
     "metadata": {},
     "outputs": [
      {
       "output_type": "stream",
       "stream": "stdout",
       "text": [
        "0\n",
        "1\n"
       ]
      }
     ],
     "prompt_number": 25
    },
    {
     "cell_type": "code",
     "collapsed": false,
     "input": [
      "# here, we'll start using the gender.io api, through the Genderize package \n",
      "# to grab some updated genders\n",
      "\n",
      "import MySQLdb as mdb, sys\n",
      "import ssl\n",
      "from genderize import Genderize\n",
      "# I'm using python 2.7, which doesn't get along with the requests package https settings.  \n",
      "#    the longer term solution is to upgrade python.\n",
      "import urllib3\n",
      "urllib3.disable_warnings()\n",
      "\n",
      "try:\n",
      "    con = mdb.connect('127.0.0.1', 'root', 'root', 'ibm_jam')\n",
      "    cur = con.cursor()\n",
      "    offset = 7000\n",
      "    # grab list of unmatched names from gendered_names. 500 at a time, to do the 1000 limit in two parts\n",
      "    cur.execute(\"select distinct(ucase(first_name)) from ce_names where gender is Null limit 1000 offset {};\".format(offset))\n",
      "    names = cur.fetchall()\n",
      "    call_names = []\n",
      "    # first, any where there are no full first names, just initials, set to unknown gender\n",
      "    for name in names:\n",
      "        call_names.append(name[0])\n",
      "    \n",
      "    # it looks like the Genderize code or API only returns 10 at a time, so we'll do this in blocks of ten\n",
      "    step = 10\n",
      "    for i in range(0, len(call_names), step): \n",
      "        print(call_names[i: i + step])\n",
      "        g_names = Genderize().get(call_names[i: i + step])\n",
      "        # print(g_names)\n",
      "        for gio in g_names:\n",
      "            if gio[\"gender\"] is None:\n",
      "                gio[\"gender\"] = \"NOLOOKUP\"\n",
      "                gio[\"probability\"]=0\n",
      "                gio[\"count\"]=0\n",
      "            cur.execute('INSERT INTO extra_gender_lookups VALUES (%s,%s,%s,%s)',(gio[\"name\"],gio[\"gender\"], gio[\"probability\"], gio[\"count\"]))\n",
      "            #cur.execute('UPDATE gendered_names SET gender=%s WHERE first_name=%s',('unknown',name))\n",
      "        con.commit()    \n",
      "except mdb.Error, e:\n",
      "  \n",
      "    print \"Error %d: %s\" % (e.args[0], e.args[1])\n",
      "    sys.exit(1)\n",
      "\n",
      "finally:\n",
      "    \n",
      "    if con:\n",
      "        con.close()"
     ],
     "language": "python",
     "metadata": {},
     "outputs": [
      {
       "output_type": "stream",
       "stream": "stdout",
       "text": [
        "['YASHWINEE', 'YASSER', 'YASUAKI', 'YASUHARU', 'YASUHIDE', 'YASUKI', 'YASUNAO', 'YASUSHI', 'YASUYUKI', 'YAT']\n",
        "['YATI', 'YATIN', 'YAVIS', 'YAVOR', 'YAWEN', 'YAYOI', 'YAZID', 'YAZMIN', 'YEAN', 'YEAZI']"
       ]
      },
      {
       "output_type": "stream",
       "stream": "stdout",
       "text": [
        "\n",
        "['YECENIA', 'YEEN', 'YEHUDA', 'YEIMY', 'YEMI', 'YENG', 'YENIT', 'YEOJIN', 'YESHWANT', 'YESHWANTH']"
       ]
      },
      {
       "output_type": "stream",
       "stream": "stdout",
       "text": [
        "\n",
        "['YESICA', 'YEZDI', 'YEZHEN', 'YH', 'YIBO', 'YIDA', 'YIK', 'YILIN', 'YIN', 'YINGHUI']"
       ]
      },
      {
       "output_type": "stream",
       "stream": "stdout",
       "text": [
        "\n",
        "['YINKA', 'YINXIN', 'YIOLA', 'YIPING', 'YIQING', 'YIXIN', 'YIYING', 'YIYUE', 'YM', 'YN']"
       ]
      },
      {
       "output_type": "stream",
       "stream": "stdout",
       "text": [
        "\n",
        "['YO', 'YOANN', 'YOAV', 'YOCHANA', 'YOGANANTHAM', 'YOGENDRA', 'YOGESWARAN', 'YOGINDER', 'YOGIRAJ', 'YOGISH']"
       ]
      },
      {
       "output_type": "stream",
       "stream": "stdout",
       "text": [
        "\n",
        "['YOHANA', 'YOHANN', 'YOHEI', 'YOHICHI', 'YOHJI', 'YOHKO', 'YOHSUKE', 'YOLAINE', 'YONGDEUK', 'YONGHEE']"
       ]
      },
      {
       "output_type": "stream",
       "stream": "stdout",
       "text": [
        "\n",
        "['YONGHUA', 'YONGJAE', 'YONGMIN', 'YONGSANG', 'YONGXI', 'YONNI', 'YOONHEE', 'YOONSIK', 'YOONSUN', 'YORDANKA']"
       ]
      },
      {
       "output_type": "stream",
       "stream": "stdout",
       "text": [
        "\n",
        "['YORK', 'YOS', 'YOSEF', 'YOSHI', 'YOSHIAKA', 'YOSHIAKI', 'YOSHIHIDE', 'YOSHIKAZU', 'YOSHIOMI', 'YOSHITO']"
       ]
      },
      {
       "output_type": "stream",
       "stream": "stdout",
       "text": [
        "\n",
        "['YOSHIYA', 'YOSHIYUKI', 'YOSUKE', 'YOU', 'YOUNGHOON', 'YOUNGHUN', 'YOUNGIM', 'YOUNGJIN', 'YOUNGTAE', 'YOURI']"
       ]
      },
      {
       "output_type": "stream",
       "stream": "stdout",
       "text": [
        "\n",
        "['YOUSSEF', 'YOUSUF', 'YOUXIANG', 'YUANMIN', 'YUG', 'YUGA', 'YUGANDHAR', 'YUGENDRAN', 'YUH', 'YUHICHIROH']"
       ]
      },
      {
       "output_type": "stream",
       "stream": "stdout",
       "text": [
        "\n",
        "['YUHKI', 'YUI', 'YUIKO', 'YUJI', 'YUJIA', 'YUKA', 'YUKIHIKO', 'YUKIHISA', 'YUKIMI', 'YULIAN']"
       ]
      },
      {
       "output_type": "stream",
       "stream": "stdout",
       "text": [
        "\n",
        "['YULIETHE', 'YULIN(JOHN)', 'YUMI', 'YUNBOK', 'YUNFEI', 'YUNGHO', 'YUNHEE', 'YUNJIE', 'YUNUS', 'YUPHADEE']"
       ]
      },
      {
       "output_type": "stream",
       "stream": "stdout",
       "text": [
        "\n",
        "['YUQING', 'YURICZA', 'YUSUF', 'YUSUKE', 'YUVABOON', 'YUVARAJ', 'YUVARAJPREMKUMAR', 'YUWEI', 'YUYA', 'YUYO']"
       ]
      },
      {
       "output_type": "stream",
       "stream": "stdout",
       "text": [
        "\n",
        "['YUZHU', 'YVAN', 'YVO', 'YVON', 'ZAC', 'ZACH', 'ZAFIRA', 'ZAHEER', 'ZAHI', 'ZAHIDUL']"
       ]
      },
      {
       "output_type": "stream",
       "stream": "stdout",
       "text": [
        "\n",
        "['ZAID', 'ZAIN', 'ZAINAL', 'ZAINE', 'ZAIRA', 'ZAKEEDA', 'ZAKIR', 'ZALA', 'ZALMAN', 'ZAMAN']"
       ]
      },
      {
       "output_type": "stream",
       "stream": "stdout",
       "text": [
        "\n",
        "['ZAMZUZZAMAN', 'ZANOTTO', 'ZARINA', 'ZARINAH', 'ZAVEN', 'ZAYRUS', 'ZBIGNIEW', 'ZBYNEK', 'ZDENEK', 'ZDENKA']"
       ]
      },
      {
       "output_type": "stream",
       "stream": "stdout",
       "text": [
        "\n",
        "['ZEINA', 'ZEKE', 'ZEL', 'ZEN', 'ZENGGANG', 'ZENKA', 'ZETA', 'ZEYAD', 'ZEYNEP', 'ZHANG']"
       ]
      },
      {
       "output_type": "stream",
       "stream": "stdout",
       "text": [
        "\n",
        "['ZHANGWEN', 'ZHAOBING', 'ZHAOJIA', 'ZHAOMING', 'ZHE', 'ZHEN', 'ZHENDONG', 'ZHENGPEN', 'ZHENGPING', 'ZHENGTING']"
       ]
      },
      {
       "output_type": "stream",
       "stream": "stdout",
       "text": [
        "\n",
        "['ZHENNAN', 'ZHENNI', 'ZHENYU', 'ZHIBO', 'ZHIGANG', 'ZHIHUO', 'ZHILI', 'ZHIQIANG', 'ZHIYAN', 'ZHIYONG']"
       ]
      },
      {
       "output_type": "stream",
       "stream": "stdout",
       "text": [
        "\n",
        "['ZHONGBO', 'ZHONGKANG', 'ZHOU', 'ZHU', 'ZHUANG', 'ZHUMING', 'ZHUO', 'ZI', 'ZIAAD', 'ZIAD']"
       ]
      },
      {
       "output_type": "stream",
       "stream": "stdout",
       "text": [
        "\n",
        "['ZIGGY', 'ZIKANG', 'ZIKRI', 'ZING', 'ZIPAN', 'ZLATAN', 'ZO', 'ZOIS', 'ZONGQIANG', 'ZORYANA']"
       ]
      },
      {
       "output_type": "stream",
       "stream": "stdout",
       "text": [
        "\n",
        "['ZRINKO', 'ZSA', 'ZSANETT', 'ZSOFIA', 'ZSOLT', 'ZSUZSA', 'ZSUZSANNA', 'ZUBEROA', 'ZULAIKHA', 'ZULIMA']"
       ]
      },
      {
       "output_type": "stream",
       "stream": "stdout",
       "text": [
        "\n",
        "['ZUN', 'ZUZANA', 'ZVINYS', 'ZYGMUNT', '\\xc5\\x81UKASZ', '\\xe5\\xbb\\x96', '\\xe6\\xb2\\x83\\xe6\\xa3\\xae', '\\xe8\\x8b\\xb1\\xe8\\x8b\\xb1', '\\xef\\xbc\\xab\\xef\\xbc\\xa1\\xef\\xbc\\xb4\\xef\\xbc\\xb3\\xef\\xbc\\xb5\\xef\\xbc\\xb9\\xef\\xbc\\xa1', '\\xef\\xbc\\xae\\xef\\xbc\\xaf\\xef\\xbc\\xa2\\xef\\xbc\\xa8\\xef\\xbc\\xa1\\xef\\xbc\\xb2\\xef\\xbc\\xb5']"
       ]
      },
      {
       "output_type": "stream",
       "stream": "stdout",
       "text": [
        "\n"
       ]
      }
     ],
     "prompt_number": 4
    },
    {
     "cell_type": "code",
     "collapsed": false,
     "input": [
      "import ssl"
     ],
     "language": "python",
     "metadata": {},
     "outputs": [],
     "prompt_number": 2
    },
    {
     "cell_type": "code",
     "collapsed": false,
     "input": [],
     "language": "python",
     "metadata": {},
     "outputs": []
    }
   ],
   "metadata": {}
  }
 ]
}