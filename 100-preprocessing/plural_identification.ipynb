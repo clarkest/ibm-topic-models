{
 "metadata": {
  "name": "",
  "signature": "sha256:5e44fa7b8202ad91651fe21233bf15f53601e971fcb1946456d6b8743a3cb176"
 },
 "nbformat": 3,
 "nbformat_minor": 0,
 "worksheets": [
  {
   "cells": [
    {
     "cell_type": "code",
     "collapsed": false,
     "input": [
      "list_dir = \"/Users/clarkbernier/Dropbox/IBM Local/ibm-topic-model/100-preprocessing/lists/\"\n",
      "# system dictionary seemed as good as any -- but I'm ignorant in these matters [CJB] \n",
      "dictionary_file = \"/usr/share/dict/words\""
     ],
     "language": "python",
     "metadata": {},
     "outputs": []
    },
    {
     "cell_type": "code",
     "collapsed": false,
     "input": [
      "# grab the vocab file as it was dumped from R into an alphabetically-sorted list\n",
      "from operator import itemgetter\n",
      "vocab_file = \"/Users/clarkbernier/Dropbox/IBM Local/ibm-code/vocab.txt\"\n",
      "vocab = list(csv.reader(open(vocab_file, 'rb'), delimiter='\\t'))\n",
      "vocab = sorted(vocab[1:], key=itemgetter(0), reverse=False)"
     ],
     "language": "python",
     "metadata": {},
     "outputs": []
    },
    {
     "cell_type": "code",
     "collapsed": false,
     "input": [
      "word_freqs = dict()\n",
      "for v in vocab:\n",
      "    word_freqs[v[0]] = int(v[1])\n",
      "\n",
      "# need to make sure that the singulars are actually words\n",
      "# -- it gets a little overzealous with words that end in 's'\n",
      "\n",
      "with open(dictionary_file, 'rb') as fil:\n",
      "    dictionary = fil.read().splitlines() \n",
      "\n",
      "# for each word in the vocab, use inflect to create a candidate plural of the word\n",
      "# if the root word is in the dictionary and the candidate plural also appears in the vocabulary\n",
      "# AND a second check with inflect confirms the match, then we keep the singular - plural pair\n",
      "import inflect\n",
      "p = inflect.engine()\n",
      "new_plurs = []\n",
      "for word in word_freqs:\n",
      "    possible_plur = p.plural(word)\n",
      "    # first, check if its plural even occurs in the vocab\n",
      "    if possible_plur in word_freqs and word in dictionary:\n",
      "        # now confirm that the plural is actually the plural of the original\n",
      "        if p.compare(word, possible_plur) == \"s:p\":\n",
      "            new_plurs.append((word, possible_plur, word_freqs[possible_plur]))\n",
      "\n",
      "# sort the output list by the frequency of the plural form in the corpus\n",
      "sorted_sing_freq = sorted(new_plurs, key=itemgetter(2), reverse=True)"
     ],
     "language": "python",
     "metadata": {},
     "outputs": []
    },
    {
     "cell_type": "code",
     "collapsed": false,
     "input": [
      "# dump the list of words to a file\n",
      "with open(list_dir + \"plurals.csv\", 'wb') as fil:\n",
      "    writer = csv.writer(fil)\n",
      "    for sing in sorted_sing_freq:\n",
      "        writer.writerow(sing)"
     ],
     "language": "python",
     "metadata": {},
     "outputs": []
    }
   ],
   "metadata": {}
  }
 ]
}